{
  "nbformat": 4,
  "nbformat_minor": 0,
  "metadata": {
    "colab": {
      "provenance": []
    },
    "kernelspec": {
      "name": "python3",
      "display_name": "Python 3"
    },
    "language_info": {
      "name": "python"
    }
  },
  "cells": [
    {
      "cell_type": "markdown",
      "source": [
        "**Code for resize the Sipakmed images -> 256 x 256**"
      ],
      "metadata": {
        "id": "oyfXo1lyrF16"
      }
    },
    {
      "cell_type": "code",
      "source": [
        "#Libraries\n",
        "import cv2\n",
        "import numpy as np\n",
        "from google.colab.patches import cv2_imshow\n",
        "import matplotlib.pyplot as plt\n",
        "import os"
      ],
      "metadata": {
        "id": "URuBybBsrEn2"
      },
      "execution_count": 1,
      "outputs": []
    },
    {
      "cell_type": "code",
      "execution_count": 2,
      "metadata": {
        "colab": {
          "base_uri": "https://localhost:8080/"
        },
        "id": "z9uBEzeAiNEe",
        "outputId": "2ea65755-029d-4d8e-96ea-e75ad9505a63"
      },
      "outputs": [
        {
          "output_type": "stream",
          "name": "stdout",
          "text": [
            "Mounted at /content/drive\n"
          ]
        }
      ],
      "source": [
        "from google.colab import drive\n",
        "drive.mount('/content/drive')"
      ]
    },
    {
      "cell_type": "code",
      "source": [
        "#Funtion to adjust images size\n",
        "def resize_images(img):\n",
        "  dimen = img.shape[0],img.shape[1]\n",
        "\n",
        "  if dimen[0] >= 500 or dimen[1] >= 500:#todo arriba de 500\n",
        "    new_img = cv2.resize(img,(0,0),fx=0.45,fy = 0.45,interpolation = cv2.INTER_LINEAR)\n",
        "    #red_img = cv2.resize(new_img,(0,0),fx=(1./0.45),fy = (1/0.45),interpolation = cv2.INTER_LINEAR)\n",
        "  elif dimen[0] >= 400 or dimen[1] >= 400:#entre 400 - 499\n",
        "    new_img = cv2.resize(img,(0,0),fx=0.5,fy = 0.5,interpolation = cv2.INTER_LINEAR)\n",
        "    #red_img = cv2.resize(new_img,(0,0),fx=(1/0.5),fy = (1/0.5),interpolation = cv2.INTER_LINEAR)\n",
        "  elif dimen[0] >= 300 or dimen[1] >= 300:#entre 300-399\n",
        "    new_img = cv2.resize(img,(0,0),fx=0.6,fy = 0.6,interpolation = cv2.INTER_LINEAR)\n",
        "    #red_img = cv2.resize(new_img,(0,0),fx=(1/0.6),fy = (1/0.6),interpolation = cv2.INTER_LINEAR)\n",
        "  elif dimen[0] >= 200 or dimen[1] >= 200:\n",
        "    new_img = cv2.resize(img,(0,0),fx=0.8,fy = 0.8,interpolation = cv2.INTER_LINEAR)\n",
        "    #red_img = cv2.resize(new_img,(0,0),fx=(1/0.8),fy = (1/0.8),interpolation = cv2.INTER_LINEAR)\n",
        "  elif dimen[0] >= 100 or dimen[1] >= 100:\n",
        "    new_img = cv2.resize(img,(0,0),fx=1.2,fy = 1.2,interpolation = cv2.INTER_LINEAR)\n",
        "    #red_img = cv2.resize(new_img,(0,0),fx=(1/1.2),fy = (1/1.2),interpolation = cv2.INTER_LINEAR)\n",
        "  else:\n",
        "    new_img = cv2.resize(img,(0,0),fx=2,fy = 2,interpolation = cv2.INTER_LINEAR)\n",
        "    #red_img = cv2.resize(new_img,(0,0),fx=(1/2),fy = (1/2),interpolation = cv2.INTER_LINEAR)\n",
        "\n",
        "  return new_img"
      ],
      "metadata": {
        "id": "WZiT7MiFvsgw"
      },
      "execution_count": 22,
      "outputs": []
    },
    {
      "cell_type": "code",
      "source": [
        "#Zero padding function\n",
        "def zero_padding(new_img):#imagenes redimensinadas\n",
        "  filas = (256-(new_img.shape[0]))//2#filas\n",
        "  colum = (256-(new_img.shape[1]))//2#columnas\n",
        "  padd = 255#valor del padding, puede ser 0,255\n",
        "\n",
        "  try:\n",
        "    img_rell1 = np.pad(new_img[:,:,0],((filas, filas),(colum,colum)),'constant', constant_values=(padd,padd))#capas\n",
        "    img_rell2 = np.pad(new_img[:,:,1],((filas, filas),(colum,colum)),'constant', constant_values=(padd,padd))\n",
        "    img_rell3 = np.pad(new_img[:,:,2],((filas, filas),(colum,colum)),'constant', constant_values=(padd,padd))\n",
        "    img_rell = np.stack((img_rell1,img_rell2,img_rell3),axis=2)#juntar las capas de las imagenes\n",
        "  except:\n",
        "    img_rell = np.pad(new_img,((filas, filas),(colum,colum)),'constant', constant_values=(padd,padd))#mascaras\n",
        "\n",
        "  return img_rell"
      ],
      "metadata": {
        "id": "AnYoLiGxPbMM"
      },
      "execution_count": 23,
      "outputs": []
    },
    {
      "cell_type": "code",
      "source": [
        "#Add or eliminate zeros in rows\n",
        "def adjustment_filas(img_rell):\n",
        "  filas_aux = img_rell.shape[0]\n",
        "  columnas_aux = img_rell.shape[1]\n",
        "  bandera = 0\n",
        "\n",
        "  try:\n",
        "    img_rell1 = img_rell[:,:,0]\n",
        "    img_rell2 = img_rell[:,:,1]\n",
        "    img_rell3 = img_rell[:,:,2]\n",
        "\n",
        "    #print(filas_aux,columnas_aux)\n",
        "    if filas_aux < 256:#255 < 256 si es mas pequeño que 256\n",
        "      #aux_zeros = np.zeros(columnas_aux,dtype=int)\n",
        "      aux_zeros = np.ones(columnas_aux,dtype=int)\n",
        "      img_rell1_n =  np.insert(img_rell1,-1,aux_zeros,axis=0)\n",
        "      img_rell2_n =  np.insert(img_rell2,-1,aux_zeros,axis=0)\n",
        "      img_rell3_n =  np.insert(img_rell3,-1,aux_zeros,axis=0)\n",
        "    else:\n",
        "      img_rell1_n = img_rell1\n",
        "      img_rell2_n = img_rell2\n",
        "      img_rell3_n = img_rell3\n",
        "      bandera = 1\n",
        "\n",
        "    img_rell_1 = np.stack((img_rell1_n,img_rell2_n,img_rell3_n),axis=2)#lo que regresa\n",
        "  except:\n",
        "    if filas_aux < 256:#255 < 256 si es mas pequeño que 256\n",
        "      #aux_zeros = np.zeros(columnas_aux,dtype=int)\n",
        "      #aux_zeros = np.ones(columnas_aux,dtype=int)\n",
        "      aux_zeros = np.full((columnas_aux),255,dtype=int)\n",
        "      img_rell_n = np.insert(img_rell,-1,aux_zeros,axis=0)\n",
        "    else:\n",
        "      img_rell_n = img_rell\n",
        "      bandera = 1\n",
        "\n",
        "    img_rell_1 = img_rell_n#lo que regresa\n",
        "\n",
        "  return img_rell_1,bandera"
      ],
      "metadata": {
        "id": "LCrXsEYSQYLa"
      },
      "execution_count": 24,
      "outputs": []
    },
    {
      "cell_type": "code",
      "source": [
        "#Add or eliminate zeros in columns\n",
        "def adjustment_columnas(img_rell_1):\n",
        "  filas_aux = img_rell_1.shape[0]\n",
        "  columnas_aux = img_rell_1.shape[1]\n",
        "  bandera = 0\n",
        "\n",
        "  try:\n",
        "    img_rell1 = img_rell_1[:,:,0]\n",
        "    img_rell2 = img_rell_1[:,:,1]\n",
        "    img_rell3 = img_rell_1[:,:,2]\n",
        "\n",
        "    #print(filas_aux,columnas_aux)\n",
        "    if columnas_aux < 256:#255 < 256 si es mas pequeño que 256\n",
        "      #aux_zeros = np.zeros(filas_aux,dtype=int)\n",
        "      aux_zeros = np.ones(filas_aux,dtype=int)\n",
        "      aux_zeros = np.transpose(aux_zeros)\n",
        "      img_rell1_n =  np.insert(img_rell1,-1,aux_zeros,axis=1)\n",
        "      img_rell2_n =  np.insert(img_rell2,-1,aux_zeros,axis=1)\n",
        "      img_rell3_n =  np.insert(img_rell3,-1,aux_zeros,axis=1)\n",
        "    else:\n",
        "      img_rell1_n = img_rell1\n",
        "      img_rell2_n = img_rell2\n",
        "      img_rell3_n = img_rell3\n",
        "      bandera = 1\n",
        "\n",
        "    img_rell_n = np.stack((img_rell1_n,img_rell2_n,img_rell3_n),axis=2)\n",
        "  except:\n",
        "    if columnas_aux < 256:#255 < 256 si es mas pequeño que 256\n",
        "      #aux_zeros = np.zeros(filas_aux,dtype=int)\n",
        "      #aux_zeros = np.ones(filas_aux,dtype=int)\n",
        "      aux_zeros = np.full((filas_aux),255,dtype=int)\n",
        "      aux_zeros = np.transpose(aux_zeros)\n",
        "      img_rell_n = np.insert(img_rell_1,-1,aux_zeros,axis=1)\n",
        "    else:\n",
        "      img_rell_n = img_rell_1\n",
        "      bandera = 1\n",
        "\n",
        "    #img_rell_n = img_rell_n#lo que regresa\n",
        "\n",
        "  return img_rell_n,bandera"
      ],
      "metadata": {
        "id": "0pHyV5lb9OVZ"
      },
      "execution_count": 25,
      "outputs": []
    },
    {
      "cell_type": "code",
      "source": [
        "#Folds\n",
        "index = 0   #cambiar de carpeta\n",
        "\n",
        "carpetas = os.listdir('/content/drive/MyDrive/SipakMed_data')\n",
        "carpetas.sort()\n",
        "path = '/content/drive/MyDrive/SipakMed_data/'+carpetas[index]+'/CROPPED/'\n",
        "dir_Masc = path+'Mascaras/maskCito'#carpeta de las mascaras\n",
        "dir_Masn = path+'Mascaras/maskNuc'\n",
        "dir_Masf = path+'Mascaras/maskFon'\n",
        "\n",
        "dir_Rezc = path+'Resize/maskCito'#carpeta de imagenes_resize\n",
        "dir_Rezn = path+'Resize/maskNuc'\n",
        "dir_Rezf = path+'Resize/maskFon'\n",
        "dir_Rezimg = path+'Resize/imagenes'\n",
        "\n",
        "elemen = os.listdir(path)#elementos de directorio de imagenes\n",
        "elemen.sort()#ordenar elementos de directorio\n",
        "ele_Mcito = os.listdir(dir_Masc)#elementos de directorio de mascaras\n",
        "ele_Mcito.sort()#ordenar elementos de directorio de mascaras\n",
        "ele_Mnuc = os.listdir(dir_Masn)\n",
        "ele_Mnuc.sort()\n",
        "ele_Mfon = os.listdir(dir_Masf)\n",
        "ele_Mfon.sort()\n",
        "\n",
        "print(carpetas)\n",
        "print(elemen)\n",
        "print(len(elemen))\n",
        "print(len(ele_Mnuc))\n",
        "print(len(ele_Mfon))\n",
        "print(dir_Masc)\n",
        "print(dir_Rezc)\n",
        "print(ele_Mcito)"
      ],
      "metadata": {
        "id": "olD4He09vWbf"
      },
      "execution_count": null,
      "outputs": []
    },
    {
      "cell_type": "code",
      "source": [
        "#Change size\n",
        "\n",
        "name_img = [x for x in elemen if x.endswith('.bmp')] # Use a list comprehension to filter out elements\n",
        "\n",
        "print(name_img)\n",
        "print(len(name_img))\n",
        "\n",
        "#for i in range(1,len(name_img)+1):\n",
        "for i in range(1,5):\n",
        "  print(i)\n",
        "  #Lectura de info\n",
        "  img = cv2.imread(path+name_img[i-1])\n",
        "\n",
        "  #Funciones\n",
        "  new_img = resize_images(img)\n",
        "  img_rell = zero_padding(new_img)\n",
        "  img_rell_1, bandera = adjustment_filas(img_rell)\n",
        "  img_rell_n, bandera = adjustment_columnas(img_rell_1)\n",
        "\n",
        "  #Nombres de nuevas imagenes (mascaras)\n",
        "  file_imgRe_name = name_img[i-1].split('.')[0]+'_rsze.bmp'\n",
        "\n",
        "  #Guardar\n",
        "  os.chdir(dir_Rezimg)\n",
        "  cv2.imwrite(file_imgRe_name,img_rell_n)#guardar imagen nueva con ceros\n",
        "  #print(img_rell.shape)\n",
        "  #print(img_rell_n.shape)\n",
        "  if img_rell_n.shape != (256,256,3):\n",
        "    print('Error')\n",
        "\n",
        "\n"
      ],
      "metadata": {
        "id": "Zd3_y50Kw5rB"
      },
      "execution_count": null,
      "outputs": []
    },
    {
      "cell_type": "code",
      "source": [],
      "metadata": {
        "id": "vFJqUFZYZHbN"
      },
      "execution_count": null,
      "outputs": []
    }
  ]
}